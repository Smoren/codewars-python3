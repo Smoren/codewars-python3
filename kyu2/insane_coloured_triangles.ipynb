{
 "cells": [
  {
   "cell_type": "code",
   "id": "initial_id",
   "metadata": {
    "collapsed": true,
    "ExecuteTime": {
     "end_time": "2024-05-30T21:59:06.929999Z",
     "start_time": "2024-05-30T21:59:06.908387Z"
    }
   },
   "source": [
    "def simple_triangle(row):\n",
    "    d = {'RR': 'R', 'GG': 'G', 'BB': 'B', 'RG': 'B', 'GR': 'B', 'GB': 'R', 'BG': 'R', 'RB': 'G', 'BR': 'G'}\n",
    "    while True:\n",
    "        if len(row) == 1:\n",
    "            return row\n",
    "        new_row = ''\n",
    "        for i in range(len(row)-1):\n",
    "            new_row += d[row[i:i+2]]\n",
    "\n",
    "        row = new_row"
   ],
   "outputs": [],
   "execution_count": 892
  },
  {
   "metadata": {
    "ExecuteTime": {
     "end_time": "2024-05-30T21:59:09.441501Z",
     "start_time": "2024-05-30T21:59:09.418943Z"
    }
   },
   "cell_type": "code",
   "source": [
    "import itertools\n",
    "\n",
    "def get_words(length):\n",
    "  # Символы, из которых будет состоять комбинация\n",
    "  symbols = ['R', 'G', 'B']\n",
    "\n",
    "  # Генерируем все возможные комбинации по 5 элементов\n",
    "  combs = list(itertools.product(symbols, repeat=length))\n",
    "\n",
    "  return map(lambda x: ''.join(x), combs)"
   ],
   "id": "7426d9992479fc76",
   "outputs": [],
   "execution_count": 893
  },
  {
   "metadata": {
    "ExecuteTime": {
     "end_time": "2024-05-30T21:59:11.259280Z",
     "start_time": "2024-05-30T21:59:11.155853Z"
    }
   },
   "cell_type": "code",
   "source": [
    "r = []\n",
    "for i, word in enumerate(get_words(7)):\n",
    "  if i % 3 == 0:\n",
    "    r.append(' ')\n",
    "  # print(f'{word} => {calc_triangle(word)}')\n",
    "  r.append(simple_triangle(word))\n",
    "  # if i > 1000:\n",
    "  #   break\n",
    "print(''.join(r))"
   ],
   "id": "4743c40a0b5194d2",
   "outputs": [
    {
     "name": "stdout",
     "output_type": "stream",
     "text": [
      " RGB RGB RGB RGB RGB RGB RGB RGB RGB BRG BRG BRG BRG BRG BRG BRG BRG BRG GBR GBR GBR GBR GBR GBR GBR GBR GBR RGB RGB RGB RGB RGB RGB RGB RGB RGB BRG BRG BRG BRG BRG BRG BRG BRG BRG GBR GBR GBR GBR GBR GBR GBR GBR GBR RGB RGB RGB RGB RGB RGB RGB RGB RGB BRG BRG BRG BRG BRG BRG BRG BRG BRG GBR GBR GBR GBR GBR GBR GBR GBR GBR RGB RGB RGB RGB RGB RGB RGB RGB RGB BRG BRG BRG BRG BRG BRG BRG BRG BRG GBR GBR GBR GBR GBR GBR GBR GBR GBR RGB RGB RGB RGB RGB RGB RGB RGB RGB BRG BRG BRG BRG BRG BRG BRG BRG BRG GBR GBR GBR GBR GBR GBR GBR GBR GBR RGB RGB RGB RGB RGB RGB RGB RGB RGB BRG BRG BRG BRG BRG BRG BRG BRG BRG GBR GBR GBR GBR GBR GBR GBR GBR GBR RGB RGB RGB RGB RGB RGB RGB RGB RGB BRG BRG BRG BRG BRG BRG BRG BRG BRG GBR GBR GBR GBR GBR GBR GBR GBR GBR RGB RGB RGB RGB RGB RGB RGB RGB RGB BRG BRG BRG BRG BRG BRG BRG BRG BRG GBR GBR GBR GBR GBR GBR GBR GBR GBR RGB RGB RGB RGB RGB RGB RGB RGB RGB BRG BRG BRG BRG BRG BRG BRG BRG BRG GBR GBR GBR GBR GBR GBR GBR GBR GBR GBR GBR GBR GBR GBR GBR GBR GBR GBR RGB RGB RGB RGB RGB RGB RGB RGB RGB BRG BRG BRG BRG BRG BRG BRG BRG BRG GBR GBR GBR GBR GBR GBR GBR GBR GBR RGB RGB RGB RGB RGB RGB RGB RGB RGB BRG BRG BRG BRG BRG BRG BRG BRG BRG GBR GBR GBR GBR GBR GBR GBR GBR GBR RGB RGB RGB RGB RGB RGB RGB RGB RGB BRG BRG BRG BRG BRG BRG BRG BRG BRG GBR GBR GBR GBR GBR GBR GBR GBR GBR RGB RGB RGB RGB RGB RGB RGB RGB RGB BRG BRG BRG BRG BRG BRG BRG BRG BRG GBR GBR GBR GBR GBR GBR GBR GBR GBR RGB RGB RGB RGB RGB RGB RGB RGB RGB BRG BRG BRG BRG BRG BRG BRG BRG BRG GBR GBR GBR GBR GBR GBR GBR GBR GBR RGB RGB RGB RGB RGB RGB RGB RGB RGB BRG BRG BRG BRG BRG BRG BRG BRG BRG GBR GBR GBR GBR GBR GBR GBR GBR GBR RGB RGB RGB RGB RGB RGB RGB RGB RGB BRG BRG BRG BRG BRG BRG BRG BRG BRG GBR GBR GBR GBR GBR GBR GBR GBR GBR RGB RGB RGB RGB RGB RGB RGB RGB RGB BRG BRG BRG BRG BRG BRG BRG BRG BRG GBR GBR GBR GBR GBR GBR GBR GBR GBR RGB RGB RGB RGB RGB RGB RGB RGB RGB BRG BRG BRG BRG BRG BRG BRG BRG BRG BRG BRG BRG BRG BRG BRG BRG BRG BRG GBR GBR GBR GBR GBR GBR GBR GBR GBR RGB RGB RGB RGB RGB RGB RGB RGB RGB BRG BRG BRG BRG BRG BRG BRG BRG BRG GBR GBR GBR GBR GBR GBR GBR GBR GBR RGB RGB RGB RGB RGB RGB RGB RGB RGB BRG BRG BRG BRG BRG BRG BRG BRG BRG GBR GBR GBR GBR GBR GBR GBR GBR GBR RGB RGB RGB RGB RGB RGB RGB RGB RGB BRG BRG BRG BRG BRG BRG BRG BRG BRG GBR GBR GBR GBR GBR GBR GBR GBR GBR RGB RGB RGB RGB RGB RGB RGB RGB RGB BRG BRG BRG BRG BRG BRG BRG BRG BRG GBR GBR GBR GBR GBR GBR GBR GBR GBR RGB RGB RGB RGB RGB RGB RGB RGB RGB BRG BRG BRG BRG BRG BRG BRG BRG BRG GBR GBR GBR GBR GBR GBR GBR GBR GBR RGB RGB RGB RGB RGB RGB RGB RGB RGB BRG BRG BRG BRG BRG BRG BRG BRG BRG GBR GBR GBR GBR GBR GBR GBR GBR GBR RGB RGB RGB RGB RGB RGB RGB RGB RGB BRG BRG BRG BRG BRG BRG BRG BRG BRG GBR GBR GBR GBR GBR GBR GBR GBR GBR RGB RGB RGB RGB RGB RGB RGB RGB RGB BRG BRG BRG BRG BRG BRG BRG BRG BRG GBR GBR GBR GBR GBR GBR GBR GBR GBR RGB RGB RGB RGB RGB RGB RGB RGB RGB\n"
     ]
    }
   ],
   "execution_count": 894
  },
  {
   "metadata": {
    "ExecuteTime": {
     "end_time": "2024-05-30T21:59:17.293148Z",
     "start_time": "2024-05-30T21:59:17.289049Z"
    }
   },
   "cell_type": "code",
   "source": [
    "import random\n",
    "\n",
    "def generate_random_rgb_string(length):\n",
    "    rgb = ['R', 'G', 'B']\n",
    "    return ''.join(random.choices(rgb, k=length))"
   ],
   "id": "fd4aaf978091ea50",
   "outputs": [],
   "execution_count": 895
  },
  {
   "metadata": {
    "ExecuteTime": {
     "end_time": "2024-05-30T21:59:19.100176Z",
     "start_time": "2024-05-30T21:59:19.089826Z"
    }
   },
   "cell_type": "code",
   "source": [
    "import numpy as np\n",
    "\n",
    "prefix = 'B'\n",
    "count = 27 - 3\n",
    "\n",
    "print(np.array([\n",
    "    [\n",
    "        simple_triangle(prefix + 'R' * count + 'RRR'),\n",
    "        simple_triangle(prefix + 'R' * count + 'RRG'),\n",
    "        simple_triangle(prefix + 'R' * count + 'RRB'),\n",
    "        simple_triangle(prefix + 'R' * count + 'RGR'),\n",
    "        simple_triangle(prefix + 'R' * count + 'RGG'),\n",
    "        simple_triangle(prefix + 'R' * count + 'RGB'),\n",
    "        simple_triangle(prefix + 'R' * count + 'RBR'),\n",
    "        simple_triangle(prefix + 'R' * count + 'RBG'),\n",
    "        simple_triangle(prefix + 'R' * count + 'RBB'),\n",
    "    ],\n",
    "    [\n",
    "        simple_triangle(prefix + 'R' * count + 'GRR'),\n",
    "        simple_triangle(prefix + 'R' * count + 'GRG'),\n",
    "        simple_triangle(prefix + 'R' * count + 'GRB'),\n",
    "        simple_triangle(prefix + 'R' * count + 'GGR'),\n",
    "        simple_triangle(prefix + 'R' * count + 'GGG'),\n",
    "        simple_triangle(prefix + 'R' * count + 'GGB'),\n",
    "        simple_triangle(prefix + 'R' * count + 'GBR'),\n",
    "        simple_triangle(prefix + 'R' * count + 'GBG'),\n",
    "        simple_triangle(prefix + 'R' * count + 'GBB'),\n",
    "    ],\n",
    "    [\n",
    "        simple_triangle(prefix + 'R' * count + 'BRR'),\n",
    "        simple_triangle(prefix + 'R' * count + 'BRG'),\n",
    "        simple_triangle(prefix + 'R' * count + 'BRB'),\n",
    "        simple_triangle(prefix + 'R' * count + 'BGR'),\n",
    "        simple_triangle(prefix + 'R' * count + 'BGG'),\n",
    "        simple_triangle(prefix + 'R' * count + 'BGB'),\n",
    "        simple_triangle(prefix + 'R' * count + 'BBR'),\n",
    "        simple_triangle(prefix + 'R' * count + 'BBG'),\n",
    "        simple_triangle(prefix + 'R' * count + 'BBB'),\n",
    "    ],\n",
    "]))"
   ],
   "id": "c1f1cee1ec36bee7",
   "outputs": [
    {
     "name": "stdout",
     "output_type": "stream",
     "text": [
      "[['G' 'R' 'B' 'G' 'R' 'B' 'G' 'R' 'B']\n",
      " ['G' 'R' 'B' 'G' 'R' 'B' 'G' 'R' 'B']\n",
      " ['G' 'R' 'B' 'G' 'R' 'B' 'G' 'R' 'B']]\n"
     ]
    }
   ],
   "execution_count": 896
  },
  {
   "metadata": {
    "ExecuteTime": {
     "end_time": "2024-05-30T21:59:22.577260Z",
     "start_time": "2024-05-30T21:59:22.572775Z"
    }
   },
   "cell_type": "code",
   "source": [
    "import math\n",
    "\n",
    "def triangle_periodic(s, numeric, periodic_dict):\n",
    "    return periodic_dict[s[0]][numeric % 3]  # only for len(s) == 3^x + 1\n",
    "\n",
    "def triangle(s):\n",
    "    if len(s) == 1:\n",
    "        return s\n",
    "    \n",
    "    periodic_dict = {'R': 'RBG', 'G': 'BGR', 'B': 'GRB'}\n",
    "    numeric_dict = {'R': 0, 'G': 1, 'B': 2}\n",
    "    \n",
    "    result, length = '', 3**math.floor(math.log(len(s) - 1, 3)) + 1\n",
    "    for i in range(len(s) - length + 1):\n",
    "        word = s[i:i+length]\n",
    "        result += triangle_periodic(word, numeric_dict[word[-1]], periodic_dict)\n",
    "    \n",
    "    return triangle(result)"
   ],
   "id": "3915644afb9f74c5",
   "outputs": [],
   "execution_count": 897
  },
  {
   "metadata": {
    "ExecuteTime": {
     "end_time": "2024-05-30T21:59:24.372490Z",
     "start_time": "2024-05-30T21:59:24.368734Z"
    }
   },
   "cell_type": "code",
   "source": [
    "def triangle1(row):\n",
    "\n",
    "    def reduce(a, b):\n",
    "        return a if a == b else (set('RGB') - {a , b}).pop()\n",
    "\n",
    "    def walk(offset, root, depth):\n",
    "        return row[root] if not depth else curry(offset, root, *divmod(depth, 3))\n",
    "\n",
    "    def curry(offset, root, depth, degree):\n",
    "        return walk(3 * offset, root, depth) if not degree \\\n",
    "            else reduce(curry(offset, root, depth, degree - 1), curry(offset, root + offset, depth, degree - 1))\n",
    "\n",
    "    return walk(1, 0, len(row) - 1)"
   ],
   "id": "705622b770c99450",
   "outputs": [],
   "execution_count": 898
  },
  {
   "metadata": {
    "ExecuteTime": {
     "end_time": "2024-05-30T21:59:25.208444Z",
     "start_time": "2024-05-30T21:59:25.204031Z"
    }
   },
   "cell_type": "code",
   "source": [
    "def triangle2(row):\n",
    "    reduce=[3**i+1 for i in range(10) if 3**i<=100000][::-1]\n",
    "    for length in reduce:\n",
    "        while len(row)>=length:\n",
    "            row=[row[i] if row[i]==row[i+length-1] else ({\"R\",\"G\",\"B\"}-{row[i],row[i+length-1]}).pop() for i in range(len(row)-length+1)]\n",
    "    return row[0]"
   ],
   "id": "e6a49288712b184a",
   "outputs": [],
   "execution_count": 899
  },
  {
   "metadata": {
    "ExecuteTime": {
     "end_time": "2024-05-30T21:59:26.674670Z",
     "start_time": "2024-05-30T21:59:26.670406Z"
    }
   },
   "cell_type": "code",
   "source": [
    "COLOR = {'GG':'G', 'BB':'B', 'RR':'R', 'BR':'G', 'BG':'R', 'GB':'R', 'GR':'B', 'RG':'B', 'RB':'G'}\n",
    "\n",
    "def get_colour(colour):\n",
    "    return COLOR[colour]\n",
    "    \n",
    "def get_power(length_row):\n",
    "    p = 1\n",
    "    while length_row >= 3**(p)+1:\n",
    "        if length_row == 3**(p)+1:\n",
    "            return 3**(p)+1\n",
    "        p += 1\n",
    "    return 3**(p-1)+1\n",
    "   \n",
    "def triangle3(row):\n",
    "    if len(row) < 3:\n",
    "        return row if len(row) is 1 else get_colour(row[0]+row[-1]) \n",
    "        \n",
    "    row_p = get_power(len(row))\n",
    "    if len(row) == row_p:\n",
    "        return get_colour(row[0]+row[row_p-1]) \n",
    "    new_row = ''\n",
    "    for i in range(len(row)-row_p+1):\n",
    "        new_row += get_colour(row[i]+row[row_p+i-1])\n",
    "    return triangle(new_row)"
   ],
   "id": "d28bac72ebb8077c",
   "outputs": [
    {
     "name": "stderr",
     "output_type": "stream",
     "text": [
      "<>:16: SyntaxWarning: \"is\" with a literal. Did you mean \"==\"?\n",
      "<>:16: SyntaxWarning: \"is\" with a literal. Did you mean \"==\"?\n",
      "/tmp/ipykernel_1256367/9274614.py:16: SyntaxWarning: \"is\" with a literal. Did you mean \"==\"?\n",
      "  return row if len(row) is 1 else get_colour(row[0]+row[-1])\n"
     ]
    }
   ],
   "execution_count": 900
  },
  {
   "metadata": {
    "ExecuteTime": {
     "end_time": "2024-05-30T21:59:28.325535Z",
     "start_time": "2024-05-30T21:59:28.261698Z"
    }
   },
   "cell_type": "code",
   "source": [
    "word = generate_random_rgb_string(989000)\n",
    "# word = generate_random_rgb_string(3**10+1+10000)\n",
    "len(word)"
   ],
   "id": "fcc5e26964b346ed",
   "outputs": [
    {
     "data": {
      "text/plain": [
       "989000"
      ]
     },
     "execution_count": 901,
     "metadata": {},
     "output_type": "execute_result"
    }
   ],
   "execution_count": 901
  },
  {
   "metadata": {
    "ExecuteTime": {
     "end_time": "2024-05-30T21:48:19.558118Z",
     "start_time": "2024-05-30T21:48:11.098625Z"
    }
   },
   "cell_type": "code",
   "source": "triangle(word)",
   "id": "4ef7fe6ddcab3547",
   "outputs": [
    {
     "data": {
      "text/plain": [
       "'R'"
      ]
     },
     "execution_count": 888,
     "metadata": {},
     "output_type": "execute_result"
    }
   ],
   "execution_count": 888
  },
  {
   "metadata": {
    "ExecuteTime": {
     "end_time": "2024-05-30T21:48:21.100898Z",
     "start_time": "2024-05-30T21:48:21.033387Z"
    }
   },
   "cell_type": "code",
   "source": "triangle1(word)",
   "id": "32395cf7f2a0274b",
   "outputs": [
    {
     "data": {
      "text/plain": [
       "'R'"
      ]
     },
     "execution_count": 889,
     "metadata": {},
     "output_type": "execute_result"
    }
   ],
   "execution_count": 889
  },
  {
   "metadata": {
    "ExecuteTime": {
     "end_time": "2024-05-30T21:48:26.154487Z",
     "start_time": "2024-05-30T21:48:22.025358Z"
    }
   },
   "cell_type": "code",
   "source": "triangle2(word)",
   "id": "a6b81379aa161498",
   "outputs": [
    {
     "data": {
      "text/plain": [
       "'R'"
      ]
     },
     "execution_count": 890,
     "metadata": {},
     "output_type": "execute_result"
    }
   ],
   "execution_count": 890
  },
  {
   "metadata": {
    "ExecuteTime": {
     "end_time": "2024-05-30T21:48:29.250746Z",
     "start_time": "2024-05-30T21:48:27.673503Z"
    }
   },
   "cell_type": "code",
   "source": "triangle3(word)",
   "id": "4e8ec663c9ded09e",
   "outputs": [
    {
     "data": {
      "text/plain": [
       "'R'"
      ]
     },
     "execution_count": 891,
     "metadata": {},
     "output_type": "execute_result"
    }
   ],
   "execution_count": 891
  },
  {
   "metadata": {
    "ExecuteTime": {
     "end_time": "2024-05-30T21:40:09.832901Z",
     "start_time": "2024-05-30T21:40:09.783537Z"
    }
   },
   "cell_type": "code",
   "source": "simple_triangle(word)",
   "id": "fe0245e15d4db4aa",
   "outputs": [
    {
     "data": {
      "text/plain": [
       "'G'"
      ]
     },
     "execution_count": 867,
     "metadata": {},
     "output_type": "execute_result"
    }
   ],
   "execution_count": 867
  }
 ],
 "metadata": {
  "kernelspec": {
   "display_name": "Python 3",
   "language": "python",
   "name": "python3"
  },
  "language_info": {
   "codemirror_mode": {
    "name": "ipython",
    "version": 2
   },
   "file_extension": ".py",
   "mimetype": "text/x-python",
   "name": "python",
   "nbconvert_exporter": "python",
   "pygments_lexer": "ipython2",
   "version": "2.7.6"
  }
 },
 "nbformat": 4,
 "nbformat_minor": 5
}
